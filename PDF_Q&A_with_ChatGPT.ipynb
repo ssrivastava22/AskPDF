{
  "nbformat": 4,
  "nbformat_minor": 0,
  "metadata": {
    "colab": {
      "provenance": [],
      "gpuType": "T4"
    },
    "kernelspec": {
      "name": "python3",
      "display_name": "Python 3"
    },
    "language_info": {
      "name": "python"
    }
  },
  "cells": [
    {
      "cell_type": "code",
      "execution_count": null,
      "metadata": {
        "id": "Y-ElHcY53I02"
      },
      "outputs": [],
      "source": [
        "!pip install cassio\n",
        "!pip install tiktoken\n",
        "!pip install datasets\n",
        "!pip install langchain\n",
        "!pip install openai\n",
        "!pip install -U langchain-community\n",
        "!pip install PyPDF2"
      ]
    },
    {
      "cell_type": "markdown",
      "source": [
        "Imports:"
      ],
      "metadata": {
        "id": "eWCGm_7m4Dum"
      }
    },
    {
      "cell_type": "code",
      "source": [
        "from langchain.vectorstores.cassandra import Cassandra\n",
        "from langchain.indexes.vectorstore import VectorStoreIndexWrapper\n",
        "from langchain.llms import OpenAI\n",
        "from langchain.embeddings import OpenAIEmbeddings\n",
        "from langchain.text_splitter import CharacterTextSplitter\n",
        "from langchain.document_loaders import PyPDFLoader\n",
        "from datasets import load_dataset\n",
        "from PyPDF2 import PdfReader\n",
        "import cassio\n",
        "from typing_extensions import Concatenate\n",
        "import os"
      ],
      "metadata": {
        "id": "74MvFSDP4GA3"
      },
      "execution_count": 17,
      "outputs": []
    },
    {
      "cell_type": "markdown",
      "source": [
        "define keys"
      ],
      "metadata": {
        "id": "LuL6OWUa6F-6"
      }
    },
    {
      "cell_type": "code",
      "source": [
        "os.environ['OPENAI_API_KEY'] = '<enter api key>'\n",
        "os.environ['ASTRA_DB_ID'] = '62db5132-7ca6-4bd4-8f29-a7f7bf3abc33'\n",
        "os.environ['ASTRA_DB_APP_TOKEN'] = 'AstraCS:nusoefSiysYweSRTbWQyCRhM:b3c5a2745a8194aaae6dfb63126aa9f9d4d13ee0d9a5799e0e0b93d0f1626ff7'"
      ],
      "metadata": {
        "id": "u6wzDyeV6Sbe"
      },
      "execution_count": 6,
      "outputs": []
    },
    {
      "cell_type": "code",
      "source": [
        "pdf = PdfReader('testspeech.pdf')"
      ],
      "metadata": {
        "id": "vqtMZ_YR64Ap"
      },
      "execution_count": 4,
      "outputs": []
    },
    {
      "cell_type": "code",
      "source": [
        "raw = ''\n",
        "for x, page in enumerate(pdf.pages):\n",
        "  text = page.extract_text()\n",
        "  if text:\n",
        "    raw += text\n",
        "print(raw)"
      ],
      "metadata": {
        "id": "aO6HL64k8Ovk"
      },
      "execution_count": null,
      "outputs": []
    },
    {
      "cell_type": "markdown",
      "source": [
        "conenct to db"
      ],
      "metadata": {
        "id": "c04Bfidb829-"
      }
    },
    {
      "cell_type": "code",
      "source": [
        "cassio.init(token=os.environ['ASTRA_DB_APP_TOKEN'], database_id=os.environ['ASTRA_DB_ID'])"
      ],
      "metadata": {
        "id": "nw4JqyHX83rT"
      },
      "execution_count": null,
      "outputs": []
    },
    {
      "cell_type": "code",
      "source": [
        "model = OpenAI(openai_api_key=os.environ['OPENAI_API_KEY'])\n",
        "embedding_model = OpenAIEmbeddings(openai_api_key=os.environ['OPENAI_API_KEY'])"
      ],
      "metadata": {
        "id": "SYtqrbCk8jDm"
      },
      "execution_count": null,
      "outputs": []
    },
    {
      "cell_type": "code",
      "source": [
        "vectorstore = Cassandra(\n",
        "    embedding=embedding_model,\n",
        "    table_name = \"pdf_qa\",\n",
        "    session=None,\n",
        "    keyspace=None\n",
        ")"
      ],
      "metadata": {
        "id": "TzdhZXQ48nOF"
      },
      "execution_count": 16,
      "outputs": []
    },
    {
      "cell_type": "code",
      "source": [
        "splitter = CharacterTextSplitter(\n",
        "    separator = '\\n',\n",
        "    chunk_size = 800,\n",
        "    chunk_overlap = 200,\n",
        "    length_function = len\n",
        ")\n",
        "\n",
        "chunks = splitter.split_text(raw)"
      ],
      "metadata": {
        "id": "Tvkn59cKAF8W"
      },
      "execution_count": 18,
      "outputs": []
    },
    {
      "cell_type": "markdown",
      "source": [
        "load data in vector db"
      ],
      "metadata": {
        "id": "jl9QJ670Au-2"
      }
    },
    {
      "cell_type": "code",
      "source": [
        "vectorstore.add_texts(chunks[:100])\n",
        "vectorstoreindex = VectorStoreIndexWrapper(vectorstore=vectorstore)"
      ],
      "metadata": {
        "colab": {
          "base_uri": "https://localhost:8080/",
          "height": 0
        },
        "id": "vQyIRpbSAuLQ",
        "outputId": "23714943-2605-4211-b6ba-3a248882825f"
      },
      "execution_count": 21,
      "outputs": [
        {
          "output_type": "stream",
          "name": "stdout",
          "text": [
            "inserted 10 headlines.\n"
          ]
        }
      ]
    },
    {
      "cell_type": "markdown",
      "source": [
        "q and a"
      ],
      "metadata": {
        "id": "2PcJiqCTBzsN"
      }
    },
    {
      "cell_type": "code",
      "source": [
        "q1 = True\n",
        "while True:\n",
        "  if q1:\n",
        "    query = input(\"\\nAsk a question (or type 'q' to exit the prompt)!\").strip()\n",
        "  else:\n",
        "    query = input(\"\\nAsk another question (or type 'q' to exit the prompt)!\").strip()\n",
        "\n",
        "  if query.lower() == 'q':\n",
        "    break\n",
        "  if query == '':\n",
        "    continue\n",
        "  q1 = False\n",
        "  print(\"\\nquestion is : \\\"%s\\\"\" % query)\n",
        "  a = vectorstoreindex.query(query, llm=model)\n",
        "  print(\"\\nanswer is: \\\"%s\\\"\\n\" % a)\n",
        "  print(\"here are the relevant documents, sorted by relevance to your question:\")\n",
        "  for doc, score in vectorstore.similarity_search_with_score(query, k=4):\n",
        "    print(\"    [%0.4f] \\\"%s ...\\\"\" % (score, doc.page_content[:84]))"
      ],
      "metadata": {
        "id": "F8zFDS7AAjQ-"
      },
      "execution_count": null,
      "outputs": []
    }
  ]
}